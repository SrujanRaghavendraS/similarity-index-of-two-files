{
 "cells": [
  {
   "cell_type": "code",
   "execution_count": 132,
   "id": "e0e32783",
   "metadata": {},
   "outputs": [],
   "source": [
    "def pdf_to_list(loc):#The file in the location passed as parameter is convereted to list\n",
    "    import PyPDF2\n",
    "    f = open(loc,'rb')\n",
    "    pdf_text = []\n",
    "    pdf_reader = PyPDF2.PdfFileReader(f)\n",
    "    for p in range(pdf_reader.numPages):\n",
    "        page = pdf_reader.getPage(p)\n",
    "        pdf_text.append(page.extractText())\n",
    "    return pdf_text[0].split()"
   ]
  },
  {
   "cell_type": "code",
   "execution_count": 133,
   "id": "be99f826",
   "metadata": {},
   "outputs": [],
   "source": [
    "def txt_to_list(loc):#The file in the location passed as parameter is convereted to list\n",
    "    f=open(loc,'r')\n",
    "    pdf_text=[]\n",
    "    ml=f.read()\n",
    "    return ml.split()"
   ]
  },
  {
   "cell_type": "code",
   "execution_count": 134,
   "id": "717c65c2",
   "metadata": {},
   "outputs": [],
   "source": [
    "def check_txt_or_pdf(loc):#function to check whether the directory passed is in .pdf or .txt format\n",
    "    import re\n",
    "    if re.search(\".txt\",loc):\n",
    "        return \"txt\"\n",
    "    if re.search(\".pdf\",loc):\n",
    "        return \"pdf\"\n",
    "    else:\n",
    "        print(\"The file is not in supported format\")\n",
    "        "
   ]
  },
  {
   "cell_type": "code",
   "execution_count": 135,
   "id": "9f7a5369",
   "metadata": {},
   "outputs": [],
   "source": [
    "def common(l1,l2):#function to remove the sentence fillers from the common text in the files\n",
    "    l1=set(l1)\n",
    "    l2=set(l2)\n",
    "    ts=l1.intersection(l2)\n",
    "    return list(ts)"
   ]
  },
  {
   "cell_type": "code",
   "execution_count": 136,
   "id": "91bc8c8a",
   "metadata": {},
   "outputs": [],
   "source": [
    "def create_list(loc):#function to rediret to formation of lists based on the file type\n",
    "        if(check_txt_or_pdf(loc)=='pdf'):\n",
    "            l=pdf_to_list(loc)\n",
    "        else:\n",
    "            l=txt_to_list(loc)\n",
    "        return l"
   ]
  },
  {
   "cell_type": "code",
   "execution_count": 137,
   "id": "005c9aae",
   "metadata": {},
   "outputs": [],
   "source": [
    "def counting_similar_tech_words(l,common_list):#function to count the common list_elements in either file\n",
    "    counting_list=[]\n",
    "    count=0\n",
    "    for x in common_list:\n",
    "        counting_list.append([x,l.count(x)])\n",
    "    for x in counting_list:\n",
    "        count+=x[1]\n",
    "    return count"
   ]
  },
  {
   "cell_type": "code",
   "execution_count": 138,
   "id": "ab4122d4",
   "metadata": {},
   "outputs": [],
   "source": [
    "def lower(l):#returns the list with elementsin lower case\n",
    "    tl=[]\n",
    "    for x in l:\n",
    "        tl.append(x.lower())\n",
    "    return tl\n",
    "    "
   ]
  },
  {
   "cell_type": "code",
   "execution_count": 139,
   "id": "b9e3eb7d",
   "metadata": {},
   "outputs": [],
   "source": [
    "def plotpie(per):#function for pie representation\n",
    "    import matplotlib.pyplot as plt\n",
    "    labels='similarity indicator',''\n",
    "    sizes=[per,100-per]\n",
    "    colors=['red','blue']\n",
    "    plt.pie(sizes,labels=labels,colors=colors,)\n",
    "    plt.axis('equal')\n",
    "    plt.show()\n",
    "    "
   ]
  },
  {
   "cell_type": "code",
   "execution_count": 140,
   "id": "e42d2634",
   "metadata": {},
   "outputs": [],
   "source": [
    "def venn(l1,l2,l3):#function for venn representation\n",
    "    from matplotlib_venn import venn2_unweighted\n",
    "    from matplotlib import pyplot as plt\n",
    "    venn2_unweighted(subsets=(len(l1),len(l2),len(l3)),set_labels=('File1','File2'))\n",
    "    plt.show()"
   ]
  },
  {
   "cell_type": "code",
   "execution_count": 143,
   "id": "fa000c2a",
   "metadata": {
    "scrolled": true
   },
   "outputs": [
    {
     "name": "stdout",
     "output_type": "stream",
     "text": [
      "reference_file=file2\n",
      "Both files are equal by 93.33333%\n"
     ]
    },
    {
     "data": {
      "application/vnd.jupyter.widget-view+json": {
       "model_id": "d3fc1ad5a4094fc5bb5370f983ff230a",
       "version_major": 2,
       "version_minor": 0
      },
      "text/plain": [
       "Button(description='indicator', style=ButtonStyle())"
      ]
     },
     "metadata": {},
     "output_type": "display_data"
    },
    {
     "data": {
      "application/vnd.jupyter.widget-view+json": {
       "model_id": "24705d8007b542e2abf22f0cea7065a4",
       "version_major": 2,
       "version_minor": 0
      },
      "text/plain": [
       "Button(description='Venn diagram', style=ButtonStyle())"
      ]
     },
     "metadata": {},
     "output_type": "display_data"
    },
    {
     "data": {
      "image/png": "[encoded data removed]",
      "text/plain": [
       "<Figure size 432x288 with 1 Axes>"
      ]
     },
     "metadata": {},
     "output_type": "display_data"
    },
    {
     "data": {
      "image/png": "[encoded data removed]",
      "text/plain": [
       "<Figure size 432x288 with 1 Axes>"
      ]
     },
     "metadata": {},
     "output_type": "display_data"
    }
   ],
   "source": [
    "#main function\n",
    "loc1=\"C:\\\\Users\\\\Srujan\\\\Desktop\\\\k.txt\"#for testing some address is given\n",
    "loc2=\"C:\\\\Users\\\\Srujan\\\\Desktop\\\\k2.txt\"\n",
    "l1=create_list(loc1)#creating the list of the data in the file\n",
    "l1=lower(l1)\n",
    "l2=create_list(loc2)\n",
    "l2=lower(l2)\n",
    "common_list=common(l1,l2)#common data in the lists of two files is created\n",
    "\n",
    "if(len(l2)>len(l1)):\n",
    "    print(\"reference_file=file2\")\n",
    "    per=(len(common_list)/len(l2))*100\n",
    "    \n",
    "else:\n",
    "    print(\"reference_file=file1\")\n",
    "    per=(len(common_list)/len(l1))*100\n",
    "\n",
    "print(\"Both files are equal by {k}%\".format(k=round(per,5)))\n",
    "import ipywidgets as widgets\n",
    "from IPython.display import display\n",
    "button = widgets.Button(description=\"indicator\")\n",
    "display(button)#display of button for indicator\n",
    "\n",
    "def on_button_clicked(b):\n",
    "    plotpie(per)\n",
    "\n",
    "button.on_click(on_button_clicked)\n",
    "button1 = widgets.Button(description=\"Venn diagram\")\n",
    "display(button1)#display of button for ven representation\n",
    "\n",
    "def on_button_clicked(b):\n",
    "    venn(l1,l2,common_list)\n",
    "button1.on_click(on_button_clicked)"
   ]
  },
  {
   "cell_type": "code",
   "execution_count": null,
   "id": "edf408d2",
   "metadata": {},
   "outputs": [],
   "source": []
  },
  {
   "cell_type": "code",
   "execution_count": null,
   "id": "b04d20b7",
   "metadata": {},
   "outputs": [],
   "source": []
  },
  {
   "cell_type": "code",
   "execution_count": null,
   "id": "597709ac",
   "metadata": {},
   "outputs": [],
   "source": []
  },
  {
   "cell_type": "code",
   "execution_count": null,
   "id": "a428f0b2",
   "metadata": {},
   "outputs": [],
   "source": []
  },
  {
   "cell_type": "code",
   "execution_count": null,
   "id": "5ad3afa6",
   "metadata": {},
   "outputs": [],
   "source": []
  },
  {
   "cell_type": "code",
   "execution_count": null,
   "id": "a9445e3a",
   "metadata": {},
   "outputs": [],
   "source": []
  }
 ],
 "metadata": {
  "kernelspec": {
   "display_name": "Python 3",
   "language": "python",
   "name": "python3"
  },
  "language_info": {
   "codemirror_mode": {
    "name": "ipython",
    "version": 3
   },
   "file_extension": ".py",
   "mimetype": "text/x-python",
   "name": "python",
   "nbconvert_exporter": "python",
   "pygments_lexer": "ipython3",
   "version": "3.8.8"
  }
 },
 "nbformat": 4,
 "nbformat_minor": 5
}
